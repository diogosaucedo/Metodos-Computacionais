{
  "nbformat": 4,
  "nbformat_minor": 0,
  "metadata": {
    "colab": {
      "name": "Intervalo de confiança.ipynb",
      "provenance": [],
      "collapsed_sections": []
    },
    "kernelspec": {
      "name": "python3",
      "display_name": "Python 3"
    },
    "language_info": {
      "name": "python"
    }
  },
  "cells": [
    {
      "cell_type": "markdown",
      "source": [
        "# Intervalo de Confiança\n",
        "\n",
        "**Objetivo:** calcular o intervalo de confiança da taxa de mortalidade da Covid-19.\n",
        "As informações presentes neste algoritimo foram tiradas do [site](https://covid.saude.gov.br/) do governo federal no dia 14/05/2022.\n",
        "\n",
        "## Formulas\n",
        "\n",
        "**Proporção populacional**\n",
        "---\n",
        "$\\hat{p} = \\frac{TotalObitos}{TotalCasos}$\n",
        "\n",
        "\n",
        "**Intevalo de Confiança**\n",
        "---\n",
        "$IC = \\hat{p} \\pm Z_{c}\\sqrt{\\frac{\\hat{p}(1-\\hat{p})}{n}}$"
      ],
      "metadata": {
        "id": "TV8ulYh84xL2"
      }
    },
    {
      "cell_type": "markdown",
      "source": [
        "## Importando bibliotecas"
      ],
      "metadata": {
        "id": "pzQy_LBL9Rh5"
      }
    },
    {
      "cell_type": "code",
      "execution_count": 11,
      "metadata": {
        "id": "zcYRFPiCat7s"
      },
      "outputs": [],
      "source": [
        "import numpy as np\n",
        "import pandas as pd"
      ]
    },
    {
      "cell_type": "markdown",
      "source": [
        "## Calculando IC"
      ],
      "metadata": {
        "id": "JCBg0CXM9XMp"
      }
    },
    {
      "cell_type": "code",
      "source": [
        "total_obitos = 638362.0\n",
        "total_casos = 27479963.0\n",
        "p = total_obitos / total_casos\n",
        "\n",
        "## Definimos nosso \"z-critico\" como 95%, logo, de acordo com a tabela, z = 1.96\n",
        "z = 1.96\n",
        "delta = 1.96 * np.sqrt((p*(1-p))/(total_casos))\n",
        "\n",
        "ic1 = p+delta\n",
        "ic2 = p-delta\n",
        "print(\"O intervalo de confiança seria:\")\n",
        "print(ic1*100,\"% à \", ic2*100,\"%\")"
      ],
      "metadata": {
        "colab": {
          "base_uri": "https://localhost:8080/"
        },
        "id": "TkUyNguo9M8o",
        "outputId": "88966153-9a0f-4f29-87e7-f84f96da5909"
      },
      "execution_count": 12,
      "outputs": [
        {
          "output_type": "stream",
          "name": "stdout",
          "text": [
            "O intervalo de confiança seria:\n",
            "2.3286410400804933 % à  2.317376860307509 %\n"
          ]
        }
      ]
    },
    {
      "cell_type": "markdown",
      "source": [
        "Com o CSV disponibilizado pelo Governo Federal você pode calcular a taxa de mortalidade para cada região. Este arquivo por ser muito grande não estara disposto no repositório, mas pode ser baixado a qualquer momento [aqui](https://covid.saude.gov.br/)\n"
      ],
      "metadata": {
        "id": "Torb5xbfB1kd"
      }
    },
    {
      "cell_type": "code",
      "source": [
        "dados = pd.read_csv(\"HIST_PAINEL_COVIDBR_2020_Parte2_13fev2022.csv\", sep=\";\")\n",
        "agrupados = dados.groupby('regiao').last()\n",
        "\n",
        "p = agrupados['obitosAcumulado']/agrupados['casosAcumulado']\n",
        "delta = 1.96 * np.sqrt((p*(1-p))/(agrupados['casosAcumulado']))\n",
        "\n",
        "ic1 = p+delta\n",
        "ic2 = p-delta\n",
        "print(\"O intervalo de confiança seria:\")\n",
        "print(ic1*100,\"% à \", ic2*100,\"%\")"
      ],
      "metadata": {
        "colab": {
          "base_uri": "https://localhost:8080/"
        },
        "id": "9ds5nJWMDRZ9",
        "outputId": "bb40fbff-93b8-4aa4-a87b-92a0ba4dd176"
      },
      "execution_count": 13,
      "outputs": [
        {
          "output_type": "stream",
          "name": "stdout",
          "text": [
            "O intervalo de confiança seria:\n",
            "regiao\n",
            "Brasil          2.550860\n",
            "Centro-Oeste    1.742474\n",
            "Nordeste        2.042631\n",
            "Norte           2.118172\n",
            "Sudeste         6.232607\n",
            "Sul             8.839500\n",
            "dtype: float64 % à  regiao\n",
            "Brasil          2.528600\n",
            "Centro-Oeste    1.641700\n",
            "Nordeste        0.644509\n",
            "Norte           0.701377\n",
            "Sudeste         0.983888\n",
            "Sul             3.145519\n",
            "dtype: float64 %\n"
          ]
        }
      ]
    }
  ]
}